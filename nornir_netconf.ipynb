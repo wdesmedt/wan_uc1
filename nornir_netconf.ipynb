{
 "cells": [
  {
   "cell_type": "code",
   "execution_count": 8,
   "metadata": {},
   "outputs": [],
   "source": [
    "from nornir import InitNornir\n",
    "from nornir.core.connections import Connections\n",
    "from nornir.core.task import Result, Task\n",
    "from nornir.plugins.functions.text import print_title, print_result\n",
    "\n",
    "\n",
    "from bics_nornir.plugins.connections.ncclient import Ncclient\n",
    "from bics_nornir.plugins.tasks.networking import nc\n",
    "from bics_nornir.plugins.tasks.data import load_merge_yaml, render_templates\n",
    "\n"
   ]
  },
  {
   "cell_type": "code",
   "execution_count": 9,
   "metadata": {},
   "outputs": [],
   "source": [
    "nr = InitNornir(config_file=\"nornir_config.yaml\")"
   ]
  },
  {
   "cell_type": "code",
   "execution_count": 10,
   "metadata": {},
   "outputs": [
    {
     "data": {
      "text/plain": [
       "{'sr1.lab': Host: sr1.lab, 'sr2.lab': Host: sr2.lab, 'sr3.lab': Host: sr3.lab}"
      ]
     },
     "execution_count": 10,
     "metadata": {},
     "output_type": "execute_result"
    }
   ],
   "source": [
    "nr.inventory.hosts"
   ]
  },
  {
   "cell_type": "code",
   "execution_count": 11,
   "metadata": {},
   "outputs": [],
   "source": [
    "Connections.register(\"ncclient\", Ncclient)\n"
   ]
  },
  {
   "cell_type": "code",
   "execution_count": 12,
   "metadata": {},
   "outputs": [],
   "source": [
    "cfgs = nr.run(task=nc.get_config, source=nc.NcDatastore.running, path=\"/router/router-name=Base/interface/interface-name=system\")"
   ]
  },
  {
   "cell_type": "code",
   "execution_count": 15,
   "metadata": {},
   "outputs": [],
   "source": [
    "nr.data.reset_failed_hosts()"
   ]
  },
  {
   "cell_type": "code",
   "execution_count": 13,
   "metadata": {},
   "outputs": [
    {
     "name": "stdout",
     "output_type": "stream",
     "text": [
      "\u001b[1m\u001b[36mget_config**********************************************************************\u001b[0m\n",
      "\u001b[0m\u001b[1m\u001b[34m* sr1.lab ** changed : False ***************************************************\u001b[0m\n",
      "\u001b[0m\u001b[1m\u001b[32mvvvv get_config ** changed : False vvvvvvvvvvvvvvvvvvvvvvvvvvvvvvvvvvvvvvvvvvvvv INFO\u001b[0m\n",
      "\u001b[0m{\n",
      "  \"interface-name\": \"system\",\n",
      "  \"admin-state\": \"enable\",\n",
      "  \"ipv4\": {\n",
      "    \"primary\": {\n",
      "      \"address\": \"192.168.255.1\",\n",
      "      \"prefix-length\": \"32\"\n",
      "    }\n",
      "  }\n",
      "}\u001b[0m\n",
      "\u001b[0m\u001b[1m\u001b[32m^^^^ END get_config ^^^^^^^^^^^^^^^^^^^^^^^^^^^^^^^^^^^^^^^^^^^^^^^^^^^^^^^^^^^^\u001b[0m\n",
      "\u001b[0m\u001b[1m\u001b[34m* sr2.lab ** changed : False ***************************************************\u001b[0m\n",
      "\u001b[0m\u001b[1m\u001b[32mvvvv get_config ** changed : False vvvvvvvvvvvvvvvvvvvvvvvvvvvvvvvvvvvvvvvvvvvvv INFO\u001b[0m\n",
      "\u001b[0m{\n",
      "  \"interface-name\": \"system\",\n",
      "  \"admin-state\": \"enable\",\n",
      "  \"ipv4\": {\n",
      "    \"primary\": {\n",
      "      \"address\": \"192.168.255.2\",\n",
      "      \"prefix-length\": \"32\"\n",
      "    }\n",
      "  }\n",
      "}\u001b[0m\n",
      "\u001b[0m\u001b[1m\u001b[32m^^^^ END get_config ^^^^^^^^^^^^^^^^^^^^^^^^^^^^^^^^^^^^^^^^^^^^^^^^^^^^^^^^^^^^\u001b[0m\n",
      "\u001b[0m\u001b[1m\u001b[34m* sr3.lab ** changed : False ***************************************************\u001b[0m\n",
      "\u001b[0m\u001b[1m\u001b[32mvvvv get_config ** changed : False vvvvvvvvvvvvvvvvvvvvvvvvvvvvvvvvvvvvvvvvvvvvv INFO\u001b[0m\n",
      "\u001b[0m{\n",
      "  \"interface-name\": \"system\",\n",
      "  \"admin-state\": \"enable\",\n",
      "  \"ipv4\": {\n",
      "    \"primary\": {\n",
      "      \"address\": \"192.168.255.3\",\n",
      "      \"prefix-length\": \"32\"\n",
      "    }\n",
      "  }\n",
      "}\u001b[0m\n",
      "\u001b[0m\u001b[1m\u001b[32m^^^^ END get_config ^^^^^^^^^^^^^^^^^^^^^^^^^^^^^^^^^^^^^^^^^^^^^^^^^^^^^^^^^^^^\u001b[0m\n",
      "\u001b[0m"
     ]
    }
   ],
   "source": [
    "print_result(cfgs)"
   ]
  },
  {
   "cell_type": "code",
   "execution_count": 12,
   "metadata": {},
   "outputs": [],
   "source": [
    "cfgs = nr.run(task=nc.get_config, source=nc.NcDatastore.running, path=\"/router/interface\")"
   ]
  },
  {
   "cell_type": "code",
   "execution_count": 13,
   "metadata": {},
   "outputs": [
    {
     "name": "stdout",
     "output_type": "stream",
     "text": [
      "\u001b[1m\u001b[36mget_config**********************************************************************\u001b[0m\n",
      "\u001b[0m"
     ]
    }
   ],
   "source": [
    "print_result(cfgs)"
   ]
  },
  {
   "cell_type": "code",
   "execution_count": 11,
   "metadata": {},
   "outputs": [
    {
     "data": {
      "text/plain": [
       "AggregatedResult (get_config): {'sr1.lab': MultiResult: [Result: \"get_config\"], 'sr2.lab': MultiResult: [Result: \"get_config\"]}"
      ]
     },
     "execution_count": 11,
     "metadata": {},
     "output_type": "execute_result"
    }
   ],
   "source": [
    "cfgs"
   ]
  },
  {
   "cell_type": "code",
   "execution_count": 12,
   "metadata": {},
   "outputs": [
    {
     "data": {
      "text/plain": [
       "{'sr1.lab': Host: sr1.lab, 'sr2.lab': Host: sr2.lab, 'sr3.lab': Host: sr3.lab}"
      ]
     },
     "execution_count": 12,
     "metadata": {},
     "output_type": "execute_result"
    }
   ],
   "source": [
    "nr.inventory.hosts"
   ]
  },
  {
   "cell_type": "code",
   "execution_count": 13,
   "metadata": {},
   "outputs": [
    {
     "data": {
      "text/plain": [
       "{'sr3.lab'}"
      ]
     },
     "execution_count": 13,
     "metadata": {},
     "output_type": "execute_result"
    }
   ],
   "source": [
    "nr.data.failed_hosts"
   ]
  },
  {
   "cell_type": "code",
   "execution_count": 14,
   "metadata": {},
   "outputs": [],
   "source": [
    "nr.data.reset_failed_hosts()"
   ]
  },
  {
   "cell_type": "code",
   "execution_count": 89,
   "metadata": {},
   "outputs": [],
   "source": [
    "d = {\n",
    "    \"@operation\": \"replace\",\n",
    "    'configuration-mode': 'model-driven',\n",
    "    'netconf': {\n",
    "        'admin-state': 'enable',\n",
    "        'capabilities': {\n",
    "            'candidate': 'true', 'writable-running': 'false'\n",
    "        }\n",
    "    }\n",
    "}\n"
   ]
  },
  {
   "cell_type": "code",
   "execution_count": 92,
   "metadata": {},
   "outputs": [],
   "source": [
    "res = nr.run(task=nc.nc_configure, dry_run=False, configuration=d, path=\"/system/management-interface\")"
   ]
  },
  {
   "cell_type": "code",
   "execution_count": 93,
   "metadata": {},
   "outputs": [
    {
     "name": "stdout",
     "output_type": "stream",
     "text": [
      "\u001b[1m\u001b[36mnc_configure********************************************************************\u001b[0m\n",
      "\u001b[0m\u001b[1m\u001b[34m* sr1.lab ** changed : False ***************************************************\u001b[0m\n",
      "\u001b[0m\u001b[1m\u001b[32mvvvv nc_configure ** changed : False vvvvvvvvvvvvvvvvvvvvvvvvvvvvvvvvvvvvvvvvvvv INFO\u001b[0m\n",
      "\u001b[0m\u001b[1m\u001b[32m^^^^ END nc_configure ^^^^^^^^^^^^^^^^^^^^^^^^^^^^^^^^^^^^^^^^^^^^^^^^^^^^^^^^^^\u001b[0m\n",
      "\u001b[0m\u001b[1m\u001b[34m* sr2.lab ** changed : False ***************************************************\u001b[0m\n",
      "\u001b[0m\u001b[1m\u001b[32mvvvv nc_configure ** changed : False vvvvvvvvvvvvvvvvvvvvvvvvvvvvvvvvvvvvvvvvvvv INFO\u001b[0m\n",
      "\u001b[0m\u001b[1m\u001b[32m^^^^ END nc_configure ^^^^^^^^^^^^^^^^^^^^^^^^^^^^^^^^^^^^^^^^^^^^^^^^^^^^^^^^^^\u001b[0m\n",
      "\u001b[0m\u001b[1m\u001b[34m* sr3.lab ** changed : False ***************************************************\u001b[0m\n",
      "\u001b[0m\u001b[1m\u001b[32mvvvv nc_configure ** changed : False vvvvvvvvvvvvvvvvvvvvvvvvvvvvvvvvvvvvvvvvvvv INFO\u001b[0m\n",
      "\u001b[0m\u001b[1m\u001b[32m^^^^ END nc_configure ^^^^^^^^^^^^^^^^^^^^^^^^^^^^^^^^^^^^^^^^^^^^^^^^^^^^^^^^^^\u001b[0m\n",
      "\u001b[0m"
     ]
    }
   ],
   "source": [
    "print_result(res)"
   ]
  },
  {
   "cell_type": "code",
   "execution_count": 94,
   "metadata": {},
   "outputs": [],
   "source": [
    "cfgs = nr.run(task=nc.get_config, source=nc.NcDatastore.running, path=\"system/management-interface\")"
   ]
  },
  {
   "cell_type": "code",
   "execution_count": 95,
   "metadata": {},
   "outputs": [
    {
     "name": "stdout",
     "output_type": "stream",
     "text": [
      "\u001b[1m\u001b[36mget_config**********************************************************************\u001b[0m\n",
      "\u001b[0m\u001b[1m\u001b[34m* sr1.lab ** changed : False ***************************************************\u001b[0m\n",
      "\u001b[0m\u001b[1m\u001b[32mvvvv get_config ** changed : False vvvvvvvvvvvvvvvvvvvvvvvvvvvvvvvvvvvvvvvvvvvvv INFO\u001b[0m\n",
      "\u001b[0m{\n",
      "  \"management-interface\": {\n",
      "    \"configuration-mode\": \"model-driven\",\n",
      "    \"netconf\": {\n",
      "      \"admin-state\": \"enable\",\n",
      "      \"capabilities\": {\n",
      "        \"candidate\": \"true\",\n",
      "        \"writable-running\": \"false\"\n",
      "      }\n",
      "    }\n",
      "  }\n",
      "}\u001b[0m\n",
      "\u001b[0m\u001b[1m\u001b[32m^^^^ END get_config ^^^^^^^^^^^^^^^^^^^^^^^^^^^^^^^^^^^^^^^^^^^^^^^^^^^^^^^^^^^^\u001b[0m\n",
      "\u001b[0m\u001b[1m\u001b[34m* sr2.lab ** changed : False ***************************************************\u001b[0m\n",
      "\u001b[0m\u001b[1m\u001b[32mvvvv get_config ** changed : False vvvvvvvvvvvvvvvvvvvvvvvvvvvvvvvvvvvvvvvvvvvvv INFO\u001b[0m\n",
      "\u001b[0m{\n",
      "  \"management-interface\": {\n",
      "    \"configuration-mode\": \"model-driven\",\n",
      "    \"netconf\": {\n",
      "      \"admin-state\": \"enable\",\n",
      "      \"capabilities\": {\n",
      "        \"candidate\": \"true\",\n",
      "        \"writable-running\": \"false\"\n",
      "      }\n",
      "    }\n",
      "  }\n",
      "}\u001b[0m\n",
      "\u001b[0m\u001b[1m\u001b[32m^^^^ END get_config ^^^^^^^^^^^^^^^^^^^^^^^^^^^^^^^^^^^^^^^^^^^^^^^^^^^^^^^^^^^^\u001b[0m\n",
      "\u001b[0m\u001b[1m\u001b[34m* sr3.lab ** changed : False ***************************************************\u001b[0m\n",
      "\u001b[0m\u001b[1m\u001b[32mvvvv get_config ** changed : False vvvvvvvvvvvvvvvvvvvvvvvvvvvvvvvvvvvvvvvvvvvvv INFO\u001b[0m\n",
      "\u001b[0m{\n",
      "  \"management-interface\": {\n",
      "    \"configuration-mode\": \"model-driven\",\n",
      "    \"netconf\": {\n",
      "      \"admin-state\": \"enable\",\n",
      "      \"capabilities\": {\n",
      "        \"candidate\": \"true\",\n",
      "        \"writable-running\": \"false\"\n",
      "      }\n",
      "    }\n",
      "  }\n",
      "}\u001b[0m\n",
      "\u001b[0m\u001b[1m\u001b[32m^^^^ END get_config ^^^^^^^^^^^^^^^^^^^^^^^^^^^^^^^^^^^^^^^^^^^^^^^^^^^^^^^^^^^^\u001b[0m\n",
      "\u001b[0m"
     ]
    }
   ],
   "source": [
    "print_result(cfgs)"
   ]
  },
  {
   "cell_type": "code",
   "execution_count": 43,
   "metadata": {},
   "outputs": [],
   "source": [
    "res = nr.run(task=nc.nc_configure, name=\"config:/system/mgmt-interface\", dry_run=False, configuration=d, path=\"/system/management-interface\")"
   ]
  },
  {
   "cell_type": "code",
   "execution_count": 44,
   "metadata": {},
   "outputs": [
    {
     "name": "stdout",
     "output_type": "stream",
     "text": [
      "\u001b[1m\u001b[36mconfig:/system/mgmt-interface***************************************************\u001b[0m\n",
      "\u001b[0m\u001b[1m\u001b[34m* sr1.lab ** changed : False ***************************************************\u001b[0m\n",
      "\u001b[0m\u001b[1m\u001b[32mvvvv config:/system/mgmt-interface ** changed : False vvvvvvvvvvvvvvvvvvvvvvvvvv INFO\u001b[0m\n",
      "\u001b[0m\u001b[1m\u001b[32m^^^^ END config:/system/mgmt-interface ^^^^^^^^^^^^^^^^^^^^^^^^^^^^^^^^^^^^^^^^^\u001b[0m\n",
      "\u001b[0m\u001b[1m\u001b[34m* sr2.lab ** changed : False ***************************************************\u001b[0m\n",
      "\u001b[0m\u001b[1m\u001b[32mvvvv config:/system/mgmt-interface ** changed : False vvvvvvvvvvvvvvvvvvvvvvvvvv INFO\u001b[0m\n",
      "\u001b[0m\u001b[1m\u001b[32m^^^^ END config:/system/mgmt-interface ^^^^^^^^^^^^^^^^^^^^^^^^^^^^^^^^^^^^^^^^^\u001b[0m\n",
      "\u001b[0m\u001b[1m\u001b[34m* sr3.lab ** changed : False ***************************************************\u001b[0m\n",
      "\u001b[0m\u001b[1m\u001b[32mvvvv config:/system/mgmt-interface ** changed : False vvvvvvvvvvvvvvvvvvvvvvvvvv INFO\u001b[0m\n",
      "\u001b[0m\u001b[1m\u001b[32m^^^^ END config:/system/mgmt-interface ^^^^^^^^^^^^^^^^^^^^^^^^^^^^^^^^^^^^^^^^^\u001b[0m\n",
      "\u001b[0m"
     ]
    }
   ],
   "source": [
    "print_result(res)"
   ]
  },
  {
   "cell_type": "code",
   "execution_count": 25,
   "metadata": {},
   "outputs": [],
   "source": [
    "cfgs = nr.run(task=nc.get_config, source=nc.NcDatastore.running, path=\"system/management-interface\")"
   ]
  },
  {
   "cell_type": "code",
   "execution_count": 26,
   "metadata": {},
   "outputs": [
    {
     "name": "stdout",
     "output_type": "stream",
     "text": [
      "\u001b[1m\u001b[36mget_config**********************************************************************\u001b[0m\n",
      "\u001b[0m\u001b[1m\u001b[34m* sr1.lab ** changed : False ***************************************************\u001b[0m\n",
      "\u001b[0m\u001b[1m\u001b[32mvvvv get_config ** changed : False vvvvvvvvvvvvvvvvvvvvvvvvvvvvvvvvvvvvvvvvvvvvv INFO\u001b[0m\n",
      "\u001b[0m{\n",
      "  \"management-interface\": {\n",
      "    \"configuration-mode\": \"model-driven\",\n",
      "    \"netconf\": {\n",
      "      \"admin-state\": \"enable\",\n",
      "      \"capabilities\": {\n",
      "        \"candidate\": \"true\",\n",
      "        \"writable-running\": \"true\"\n",
      "      }\n",
      "    }\n",
      "  }\n",
      "}\u001b[0m\n",
      "\u001b[0m\u001b[1m\u001b[32m^^^^ END get_config ^^^^^^^^^^^^^^^^^^^^^^^^^^^^^^^^^^^^^^^^^^^^^^^^^^^^^^^^^^^^\u001b[0m\n",
      "\u001b[0m\u001b[1m\u001b[34m* sr2.lab ** changed : False ***************************************************\u001b[0m\n",
      "\u001b[0m\u001b[1m\u001b[32mvvvv get_config ** changed : False vvvvvvvvvvvvvvvvvvvvvvvvvvvvvvvvvvvvvvvvvvvvv INFO\u001b[0m\n",
      "\u001b[0m{\n",
      "  \"management-interface\": {\n",
      "    \"configuration-mode\": \"model-driven\",\n",
      "    \"netconf\": {\n",
      "      \"admin-state\": \"enable\",\n",
      "      \"capabilities\": {\n",
      "        \"candidate\": \"true\",\n",
      "        \"writable-running\": \"true\"\n",
      "      }\n",
      "    }\n",
      "  }\n",
      "}\u001b[0m\n",
      "\u001b[0m\u001b[1m\u001b[32m^^^^ END get_config ^^^^^^^^^^^^^^^^^^^^^^^^^^^^^^^^^^^^^^^^^^^^^^^^^^^^^^^^^^^^\u001b[0m\n",
      "\u001b[0m\u001b[1m\u001b[34m* sr3.lab ** changed : False ***************************************************\u001b[0m\n",
      "\u001b[0m\u001b[1m\u001b[32mvvvv get_config ** changed : False vvvvvvvvvvvvvvvvvvvvvvvvvvvvvvvvvvvvvvvvvvvvv INFO\u001b[0m\n",
      "\u001b[0m{\n",
      "  \"management-interface\": {\n",
      "    \"configuration-mode\": \"model-driven\",\n",
      "    \"netconf\": {\n",
      "      \"admin-state\": \"enable\",\n",
      "      \"capabilities\": {\n",
      "        \"candidate\": \"true\",\n",
      "        \"writable-running\": \"true\"\n",
      "      }\n",
      "    }\n",
      "  }\n",
      "}\u001b[0m\n",
      "\u001b[0m\u001b[1m\u001b[32m^^^^ END get_config ^^^^^^^^^^^^^^^^^^^^^^^^^^^^^^^^^^^^^^^^^^^^^^^^^^^^^^^^^^^^\u001b[0m\n",
      "\u001b[0m"
     ]
    }
   ],
   "source": [
    "print_result(cfgs)"
   ]
  },
  {
   "cell_type": "code",
   "execution_count": 16,
   "metadata": {},
   "outputs": [],
   "source": [
    "res = nr.run(task=nc.nc_configure, dry_run=False, configuration=d, path=\"/system/management-interface\")"
   ]
  },
  {
   "cell_type": "code",
   "execution_count": 63,
   "metadata": {},
   "outputs": [],
   "source": [
    "isis = {\n",
    "    \"@operation\": \"merge\",  ## DANGEROUS - 'replace' removes all other statements, incl itfs\n",
    "    \"isis-instance\": 0,\n",
    "    \"admin-state\": \"enable\",\n",
    "    \"advertise-passive-only\": True,\n",
    "    \"ldp-over-rsvp\": True,\n",
    "    \"lsp-lifetime\": \"65535\",\n",
    "    \"traffic-engineering\": True,\n",
    "    \"area-address\": {\n",
    "        \"@operation\": \"replace\",\n",
    "        \"#text\": \"49.0002\",\n",
    "    },\n",
    "    \"lsp-refresh\": {\n",
    "      \"interval\": \"1500\"\n",
    "    },\n",
    "}"
   ]
  },
  {
   "cell_type": "code",
   "execution_count": 39,
   "metadata": {},
   "outputs": [],
   "source": [
    "isis = {'isis': isis}"
   ]
  },
  {
   "cell_type": "code",
   "execution_count": 40,
   "metadata": {},
   "outputs": [
    {
     "data": {
      "text/plain": [
       "{'isis': {'isis-instance': 0,\n",
       "  'admin-state': 'enable',\n",
       "  'advertise-passive-only': True,\n",
       "  'ldp-over-rsvp': True,\n",
       "  'lsp-lifetime': '65535',\n",
       "  'traffic-engineering': True,\n",
       "  'area-address': {'@operation': 'replace', '#text': '49.0002'},\n",
       "  'lsp-refresh': {'interval': '1500'}}}"
      ]
     },
     "execution_count": 40,
     "metadata": {},
     "output_type": "execute_result"
    }
   ],
   "source": [
    "isis"
   ]
  },
  {
   "cell_type": "code",
   "execution_count": 36,
   "metadata": {},
   "outputs": [],
   "source": [
    "import xmltodict ; import json"
   ]
  },
  {
   "cell_type": "code",
   "execution_count": 42,
   "metadata": {},
   "outputs": [
    {
     "name": "stdout",
     "output_type": "stream",
     "text": [
      "<?xml version=\"1.0\" encoding=\"utf-8\"?>\n",
      "<isis><isis-instance>0</isis-instance><admin-state>enable</admin-state><advertise-passive-only>true</advertise-passive-only><ldp-over-rsvp>true</ldp-over-rsvp><lsp-lifetime>65535</lsp-lifetime><traffic-engineering>true</traffic-engineering><area-address operation=\"replace\">49.0002</area-address><lsp-refresh><interval>1500</interval></lsp-refresh></isis>\u001b[0m\n",
      "\u001b[0m"
     ]
    }
   ],
   "source": [
    "print(xmltodict.unparse(isis))"
   ]
  },
  {
   "cell_type": "code",
   "execution_count": 64,
   "metadata": {},
   "outputs": [],
   "source": [
    "res = nr.run(task=nc.nc_configure, name=\"cfg_isis\", dry_run=True, configuration=isis, path=\"/router/router-name=Base/isis\")"
   ]
  },
  {
   "cell_type": "code",
   "execution_count": null,
   "metadata": {},
   "outputs": [],
   "source": []
  },
  {
   "cell_type": "code",
   "execution_count": 65,
   "metadata": {},
   "outputs": [
    {
     "name": "stdout",
     "output_type": "stream",
     "text": [
      "\u001b[1m\u001b[36mcfg_isis************************************************************************\u001b[0m\n",
      "\u001b[0m\u001b[1m\u001b[34m* sr1.lab ** changed : True ****************************************************\u001b[0m\n",
      "\u001b[0m\u001b[1m\u001b[33mvvvv cfg_isis ** changed : True vvvvvvvvvvvvvvvvvvvvvvvvvvvvvvvvvvvvvvvvvvvvvvvv INFO\u001b[0m\n",
      "\u001b[0m--- running\n",
      "+++ candidate\n",
      "@@ -243,9 +243,12 @@\n",
      "       \"ldp-over-rsvp\": \"true\",\n",
      "       \"lsp-lifetime\": \"65535\",\n",
      "       \"traffic-engineering\": \"true\",\n",
      "-      \"area-address\": \"49.0001\",\n",
      "+      \"area-address\": [\n",
      "+        \"49.0001\",\n",
      "+        \"49.0002\"\n",
      "+      ],\n",
      "       \"lsp-refresh\": {\n",
      "-        \"interval\": \"32767\"\n",
      "+        \"interval\": \"1500\"\n",
      "       },\n",
      "       \"timers\": {\n",
      "         \"spf-wait\": {\n",
      "\u001b[0m\n",
      "\u001b[0m\u001b[1m\u001b[33m^^^^ END cfg_isis ^^^^^^^^^^^^^^^^^^^^^^^^^^^^^^^^^^^^^^^^^^^^^^^^^^^^^^^^^^^^^^\u001b[0m\n",
      "\u001b[0m\u001b[1m\u001b[34m* sr2.lab ** changed : True ****************************************************\u001b[0m\n",
      "\u001b[0m\u001b[1m\u001b[33mvvvv cfg_isis ** changed : True vvvvvvvvvvvvvvvvvvvvvvvvvvvvvvvvvvvvvvvvvvvvvvvv INFO\u001b[0m\n",
      "\u001b[0m--- running\n",
      "+++ candidate\n",
      "@@ -146,9 +146,12 @@\n",
      "       \"ldp-over-rsvp\": \"true\",\n",
      "       \"lsp-lifetime\": \"65535\",\n",
      "       \"traffic-engineering\": \"true\",\n",
      "-      \"area-address\": \"49.0001\",\n",
      "+      \"area-address\": [\n",
      "+        \"49.0001\",\n",
      "+        \"49.0002\"\n",
      "+      ],\n",
      "       \"lsp-refresh\": {\n",
      "-        \"interval\": \"32767\"\n",
      "+        \"interval\": \"1500\"\n",
      "       }\n",
      "     }\n",
      "   },\n",
      "\u001b[0m\n",
      "\u001b[0m\u001b[1m\u001b[33m^^^^ END cfg_isis ^^^^^^^^^^^^^^^^^^^^^^^^^^^^^^^^^^^^^^^^^^^^^^^^^^^^^^^^^^^^^^\u001b[0m\n",
      "\u001b[0m\u001b[1m\u001b[34m* sr3.lab ** changed : True ****************************************************\u001b[0m\n",
      "\u001b[0m\u001b[1m\u001b[33mvvvv cfg_isis ** changed : True vvvvvvvvvvvvvvvvvvvvvvvvvvvvvvvvvvvvvvvvvvvvvvvv INFO\u001b[0m\n",
      "\u001b[0m--- running\n",
      "+++ candidate\n",
      "@@ -133,9 +133,12 @@\n",
      "       \"ldp-over-rsvp\": \"true\",\n",
      "       \"lsp-lifetime\": \"65535\",\n",
      "       \"traffic-engineering\": \"true\",\n",
      "-      \"area-address\": \"49.0001\",\n",
      "+      \"area-address\": [\n",
      "+        \"49.0001\",\n",
      "+        \"49.0002\"\n",
      "+      ],\n",
      "       \"lsp-refresh\": {\n",
      "-        \"interval\": \"32767\"\n",
      "+        \"interval\": \"1500\"\n",
      "       }\n",
      "     }\n",
      "   },\n",
      "\u001b[0m\n",
      "\u001b[0m\u001b[1m\u001b[33m^^^^ END cfg_isis ^^^^^^^^^^^^^^^^^^^^^^^^^^^^^^^^^^^^^^^^^^^^^^^^^^^^^^^^^^^^^^\u001b[0m\n",
      "\u001b[0m"
     ]
    }
   ],
   "source": [
    "print_result(res)"
   ]
  },
  {
   "cell_type": "code",
   "execution_count": 34,
   "metadata": {},
   "outputs": [],
   "source": [
    "cfgs = nr.run(task=nc.get_config, source=nc.NcDatastore.running, path=\"/router/isis\")"
   ]
  },
  {
   "cell_type": "code",
   "execution_count": 35,
   "metadata": {},
   "outputs": [
    {
     "name": "stdout",
     "output_type": "stream",
     "text": [
      "\u001b[1m\u001b[36mget_config**********************************************************************\u001b[0m\n",
      "\u001b[0m\u001b[1m\u001b[34m* sr1.lab ** changed : False ***************************************************\u001b[0m\n",
      "\u001b[0m\u001b[1m\u001b[32mvvvv get_config ** changed : False vvvvvvvvvvvvvvvvvvvvvvvvvvvvvvvvvvvvvvvvvvvvv INFO\u001b[0m\n",
      "\u001b[0m{\n",
      "  \"isis\": {\n",
      "    \"isis-instance\": \"0\",\n",
      "    \"admin-state\": \"enable\",\n",
      "    \"advertise-passive-only\": \"true\",\n",
      "    \"ldp-over-rsvp\": \"true\",\n",
      "    \"lsp-lifetime\": \"65535\",\n",
      "    \"traffic-engineering\": \"true\",\n",
      "    \"area-address\": \"49.0001\",\n",
      "    \"lsp-refresh\": {\n",
      "      \"interval\": \"32767\"\n",
      "    },\n",
      "    \"timers\": {\n",
      "      \"spf-wait\": {\n",
      "        \"spf-initial-wait\": \"50\",\n",
      "        \"spf-second-wait\": \"200\"\n",
      "      }\n",
      "    },\n",
      "    \"loopfree-alternate\": null,\n",
      "    \"interface\": [\n",
      "      {\n",
      "        \"interface-name\": \"system\",\n",
      "        \"admin-state\": \"enable\",\n",
      "        \"passive\": \"true\"\n",
      "      },\n",
      "      {\n",
      "        \"interface-name\": \"to_sr2\",\n",
      "        \"interface-type\": \"point-to-point\"\n",
      "      },\n",
      "      {\n",
      "        \"interface-name\": \"to_sr3\",\n",
      "        \"interface-type\": \"point-to-point\"\n",
      "      }\n",
      "    ],\n",
      "    \"level\": {\n",
      "      \"level-number\": \"2\",\n",
      "      \"default-metric\": \"16777214\",\n",
      "      \"wide-metrics-only\": \"true\"\n",
      "    }\n",
      "  }\n",
      "}\u001b[0m\n",
      "\u001b[0m\u001b[1m\u001b[32m^^^^ END get_config ^^^^^^^^^^^^^^^^^^^^^^^^^^^^^^^^^^^^^^^^^^^^^^^^^^^^^^^^^^^^\u001b[0m\n",
      "\u001b[0m"
     ]
    }
   ],
   "source": [
    "print_result(cfgs)"
   ]
  },
  {
   "cell_type": "code",
   "execution_count": 20,
   "metadata": {},
   "outputs": [],
   "source": [
    "cfgs = nr.run(task=nc.get_config, source=nc.NcDatastore.running, path=\"/service/epipe\")"
   ]
  },
  {
   "cell_type": "code",
   "execution_count": 21,
   "metadata": {},
   "outputs": [
    {
     "name": "stdout",
     "output_type": "stream",
     "text": [
      "\u001b[1m\u001b[36mget_config**********************************************************************\u001b[0m\n",
      "\u001b[0m\u001b[1m\u001b[34m* sr1.lab ** changed : False ***************************************************\u001b[0m\n",
      "\u001b[0m\u001b[1m\u001b[32mvvvv get_config ** changed : False vvvvvvvvvvvvvvvvvvvvvvvvvvvvvvvvvvvvvvvvvvvvv INFO\u001b[0m\n",
      "\u001b[0m{\n",
      "  \"service-name\": \"ELINE_123\",\n",
      "  \"admin-state\": \"enable\",\n",
      "  \"service-id\": \"1000\",\n",
      "  \"customer\": \"1\",\n",
      "  \"spoke-sdp\": {\n",
      "    \"sdp-bind-id\": \"112:1000\"\n",
      "  },\n",
      "  \"sap\": {\n",
      "    \"sap-id\": \"1/1/3:20.*\",\n",
      "    \"description\": \"sap_123\"\n",
      "  }\n",
      "}\u001b[0m\n",
      "\u001b[0m\u001b[1m\u001b[32m^^^^ END get_config ^^^^^^^^^^^^^^^^^^^^^^^^^^^^^^^^^^^^^^^^^^^^^^^^^^^^^^^^^^^^\u001b[0m\n",
      "\u001b[0m\u001b[1m\u001b[34m* sr2.lab ** changed : False ***************************************************\u001b[0m\n",
      "\u001b[0m\u001b[1m\u001b[32mvvvv get_config ** changed : False vvvvvvvvvvvvvvvvvvvvvvvvvvvvvvvvvvvvvvvvvvvvv INFO\u001b[0m\n",
      "\u001b[0m\u001b[1m\u001b[32m^^^^ END get_config ^^^^^^^^^^^^^^^^^^^^^^^^^^^^^^^^^^^^^^^^^^^^^^^^^^^^^^^^^^^^\u001b[0m\n",
      "\u001b[0m\u001b[1m\u001b[34m* sr3.lab ** changed : False ***************************************************\u001b[0m\n",
      "\u001b[0m\u001b[1m\u001b[32mvvvv get_config ** changed : False vvvvvvvvvvvvvvvvvvvvvvvvvvvvvvvvvvvvvvvvvvvvv INFO\u001b[0m\n",
      "\u001b[0m\u001b[1m\u001b[32m^^^^ END get_config ^^^^^^^^^^^^^^^^^^^^^^^^^^^^^^^^^^^^^^^^^^^^^^^^^^^^^^^^^^^^\u001b[0m\n",
      "\u001b[0m"
     ]
    }
   ],
   "source": [
    "print_result(cfgs)"
   ]
  },
  {
   "cell_type": "code",
   "execution_count": 104,
   "metadata": {},
   "outputs": [],
   "source": [
    "cfgs = nr.run(task=nc.get_config, source=nc.NcDatastore.running, path=\"/router/bgp/neighbor\")"
   ]
  },
  {
   "cell_type": "code",
   "execution_count": 105,
   "metadata": {},
   "outputs": [
    {
     "data": {
      "text/plain": [
       "AggregatedResult (get_config): {}"
      ]
     },
     "execution_count": 105,
     "metadata": {},
     "output_type": "execute_result"
    }
   ],
   "source": [
    "cfgs"
   ]
  },
  {
   "cell_type": "code",
   "execution_count": 106,
   "metadata": {},
   "outputs": [
    {
     "name": "stdout",
     "output_type": "stream",
     "text": [
      "\u001b[1m\u001b[36mget_config**********************************************************************\u001b[0m\n",
      "\u001b[0m"
     ]
    }
   ],
   "source": [
    "print_result(cfgs)"
   ]
  },
  {
   "cell_type": "code",
   "execution_count": null,
   "metadata": {},
   "outputs": [],
   "source": []
  }
 ],
 "metadata": {
  "kernelspec": {
   "display_name": "Python 3",
   "language": "python",
   "name": "python3"
  },
  "language_info": {
   "codemirror_mode": {
    "name": "ipython",
    "version": 3
   },
   "file_extension": ".py",
   "mimetype": "text/x-python",
   "name": "python",
   "nbconvert_exporter": "python",
   "pygments_lexer": "ipython3",
   "version": "3.7.2"
  }
 },
 "nbformat": 4,
 "nbformat_minor": 2
}
